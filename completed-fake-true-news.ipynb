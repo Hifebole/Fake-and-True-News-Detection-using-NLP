{
 "cells": [
  {
   "cell_type": "code",
   "execution_count": 1,
   "metadata": {
    "_cell_guid": "b1076dfc-b9ad-4769-8c92-a6c4dae69d19",
    "_uuid": "8f2839f25d086af736a60e9eeb907d3b93b6e0e5",
    "execution": {
     "iopub.execute_input": "2023-06-28T12:36:18.352327Z",
     "iopub.status.busy": "2023-06-28T12:36:18.351983Z",
     "iopub.status.idle": "2023-06-28T12:36:18.384976Z",
     "shell.execute_reply": "2023-06-28T12:36:18.384050Z",
     "shell.execute_reply.started": "2023-06-28T12:36:18.352298Z"
    }
   },
   "outputs": [
    {
     "name": "stdout",
     "output_type": "stream",
     "text": [
      "/kaggle/input/arif-ref-gig/clean_fake_news_dataset.csv\n",
      "/kaggle/input/arif-ref-gig/True.csv\n",
      "/kaggle/input/arif-ref-gig/Fake.csv\n",
      "/kaggle/input/arif-ref-gig/glove.6B.100d.txt\n",
      "/kaggle/input/arif-ref-gig/comb_true_fake.csv\n",
      "/kaggle/input/arif-ref-gig/fake_news_dataset.csv\n"
     ]
    }
   ],
   "source": [
    "# This Python 3 environment comes with many helpful analytics libraries installed\n",
    "# It is defined by the kaggle/python Docker image: https://github.com/kaggle/docker-python\n",
    "# For example, here's several helpful packages to load\n",
    "\n",
    "import numpy as np # linear algebra\n",
    "import pandas as pd # data processing, CSV file I/O (e.g. pd.read_csv)\n",
    "\n",
    "# Input data files are available in the read-only \"../input/\" directory\n",
    "# For example, running this (by clicking run or pressing Shift+Enter) will list all files under the input directory\n",
    "\n",
    "import os\n",
    "for dirname, _, filenames in os.walk('/kaggle/input'):\n",
    "    for filename in filenames:\n",
    "        print(os.path.join(dirname, filename))\n",
    "\n",
    "# You can write up to 20GB to the current directory (/kaggle/working/) that gets preserved as output when you create a version using \"Save & Run All\" \n",
    "# You can also write temporary files to /kaggle/temp/, but they won't be saved outside of the current session"
   ]
  },
  {
   "cell_type": "code",
   "execution_count": 2,
   "metadata": {
    "execution": {
     "iopub.execute_input": "2023-06-28T12:36:18.386845Z",
     "iopub.status.busy": "2023-06-28T12:36:18.386560Z",
     "iopub.status.idle": "2023-06-28T12:36:29.068751Z",
     "shell.execute_reply": "2023-06-28T12:36:29.067698Z",
     "shell.execute_reply.started": "2023-06-28T12:36:18.386821Z"
    }
   },
   "outputs": [
    {
     "name": "stderr",
     "output_type": "stream",
     "text": [
      "/opt/conda/lib/python3.10/site-packages/tensorflow_io/python/ops/__init__.py:98: UserWarning: unable to load libtensorflow_io_plugins.so: unable to open file: libtensorflow_io_plugins.so, from paths: ['/opt/conda/lib/python3.10/site-packages/tensorflow_io/python/ops/libtensorflow_io_plugins.so']\n",
      "caused by: ['/opt/conda/lib/python3.10/site-packages/tensorflow_io/python/ops/libtensorflow_io_plugins.so: undefined symbol: _ZN3tsl6StatusC1EN10tensorflow5error4CodeESt17basic_string_viewIcSt11char_traitsIcEENS_14SourceLocationE']\n",
      "  warnings.warn(f\"unable to load libtensorflow_io_plugins.so: {e}\")\n",
      "/opt/conda/lib/python3.10/site-packages/tensorflow_io/python/ops/__init__.py:104: UserWarning: file system plugins are not loaded: unable to open file: libtensorflow_io.so, from paths: ['/opt/conda/lib/python3.10/site-packages/tensorflow_io/python/ops/libtensorflow_io.so']\n",
      "caused by: ['/opt/conda/lib/python3.10/site-packages/tensorflow_io/python/ops/libtensorflow_io.so: undefined symbol: _ZTVN10tensorflow13GcsFileSystemE']\n",
      "  warnings.warn(f\"file system plugins are not loaded: {e}\")\n"
     ]
    }
   ],
   "source": [
    "import pandas as pd\n",
    "import numpy as np\n",
    "import matplotlib.pyplot as plt\n",
    "import seaborn as sb\n",
    "import tensorflow as tf\n",
    "import random"
   ]
  },
  {
   "cell_type": "code",
   "execution_count": 3,
   "metadata": {
    "execution": {
     "iopub.execute_input": "2023-06-28T12:36:29.070934Z",
     "iopub.status.busy": "2023-06-28T12:36:29.070151Z",
     "iopub.status.idle": "2023-06-28T12:36:29.076322Z",
     "shell.execute_reply": "2023-06-28T12:36:29.075234Z",
     "shell.execute_reply.started": "2023-06-28T12:36:29.070900Z"
    }
   },
   "outputs": [],
   "source": [
    "# Set the random seed\n",
    "seed_value = 42\n",
    "random.seed(seed_value)"
   ]
  },
  {
   "cell_type": "code",
   "execution_count": 4,
   "metadata": {
    "execution": {
     "iopub.execute_input": "2023-06-28T12:36:29.079267Z",
     "iopub.status.busy": "2023-06-28T12:36:29.078880Z",
     "iopub.status.idle": "2023-06-28T12:36:32.061332Z",
     "shell.execute_reply": "2023-06-28T12:36:32.060365Z",
     "shell.execute_reply.started": "2023-06-28T12:36:29.079232Z"
    }
   },
   "outputs": [],
   "source": [
    "df = pd.read_csv('/kaggle/input/arif-ref-gig/comb_true_fake.csv', index_col=0)\n",
    "df1 = pd.read_csv('/kaggle/input/arif-ref-gig/clean_fake_news_dataset.csv', index_col=0)"
   ]
  },
  {
   "cell_type": "code",
   "execution_count": 5,
   "metadata": {
    "execution": {
     "iopub.execute_input": "2023-06-28T12:36:32.063249Z",
     "iopub.status.busy": "2023-06-28T12:36:32.062933Z",
     "iopub.status.idle": "2023-06-28T12:36:32.080716Z",
     "shell.execute_reply": "2023-06-28T12:36:32.079738Z",
     "shell.execute_reply.started": "2023-06-28T12:36:32.063218Z"
    }
   },
   "outputs": [
    {
     "data": {
      "text/html": [
       "<div>\n",
       "<style scoped>\n",
       "    .dataframe tbody tr th:only-of-type {\n",
       "        vertical-align: middle;\n",
       "    }\n",
       "\n",
       "    .dataframe tbody tr th {\n",
       "        vertical-align: top;\n",
       "    }\n",
       "\n",
       "    .dataframe thead th {\n",
       "        text-align: right;\n",
       "    }\n",
       "</style>\n",
       "<table border=\"1\" class=\"dataframe\">\n",
       "  <thead>\n",
       "    <tr style=\"text-align: right;\">\n",
       "      <th></th>\n",
       "      <th>title</th>\n",
       "      <th>text</th>\n",
       "      <th>class</th>\n",
       "    </tr>\n",
       "  </thead>\n",
       "  <tbody>\n",
       "    <tr>\n",
       "      <th>0</th>\n",
       "      <td>BREAKING: GOP Chairman Grassley Has Had Enoug...</td>\n",
       "      <td>Donald Trump s White House is in chaos, and th...</td>\n",
       "      <td>0</td>\n",
       "    </tr>\n",
       "    <tr>\n",
       "      <th>1</th>\n",
       "      <td>Failed GOP Candidates Remembered In Hilarious...</td>\n",
       "      <td>Now that Donald Trump is the presumptive GOP n...</td>\n",
       "      <td>0</td>\n",
       "    </tr>\n",
       "    <tr>\n",
       "      <th>2</th>\n",
       "      <td>Mike Pence’s New DC Neighbors Are HILARIOUSLY...</td>\n",
       "      <td>Mike Pence is a huge homophobe. He supports ex...</td>\n",
       "      <td>0</td>\n",
       "    </tr>\n",
       "    <tr>\n",
       "      <th>3</th>\n",
       "      <td>California AG pledges to defend birth control ...</td>\n",
       "      <td>SAN FRANCISCO (Reuters) - California Attorney ...</td>\n",
       "      <td>1</td>\n",
       "    </tr>\n",
       "    <tr>\n",
       "      <th>4</th>\n",
       "      <td>AZ RANCHERS Living On US-Mexico Border Destroy...</td>\n",
       "      <td>Twisted reasoning is all that comes from Pelos...</td>\n",
       "      <td>0</td>\n",
       "    </tr>\n",
       "  </tbody>\n",
       "</table>\n",
       "</div>"
      ],
      "text/plain": [
       "                                               title  \\\n",
       "0   BREAKING: GOP Chairman Grassley Has Had Enoug...   \n",
       "1   Failed GOP Candidates Remembered In Hilarious...   \n",
       "2   Mike Pence’s New DC Neighbors Are HILARIOUSLY...   \n",
       "3  California AG pledges to defend birth control ...   \n",
       "4  AZ RANCHERS Living On US-Mexico Border Destroy...   \n",
       "\n",
       "                                                text  class  \n",
       "0  Donald Trump s White House is in chaos, and th...      0  \n",
       "1  Now that Donald Trump is the presumptive GOP n...      0  \n",
       "2  Mike Pence is a huge homophobe. He supports ex...      0  \n",
       "3  SAN FRANCISCO (Reuters) - California Attorney ...      1  \n",
       "4  Twisted reasoning is all that comes from Pelos...      0  "
      ]
     },
     "execution_count": 5,
     "metadata": {},
     "output_type": "execute_result"
    }
   ],
   "source": [
    "df.head()"
   ]
  },
  {
   "cell_type": "code",
   "execution_count": 6,
   "metadata": {
    "execution": {
     "iopub.execute_input": "2023-06-28T12:36:32.082705Z",
     "iopub.status.busy": "2023-06-28T12:36:32.082313Z",
     "iopub.status.idle": "2023-06-28T12:36:32.093565Z",
     "shell.execute_reply": "2023-06-28T12:36:32.092484Z",
     "shell.execute_reply.started": "2023-06-28T12:36:32.082648Z"
    }
   },
   "outputs": [
    {
     "data": {
      "text/html": [
       "<div>\n",
       "<style scoped>\n",
       "    .dataframe tbody tr th:only-of-type {\n",
       "        vertical-align: middle;\n",
       "    }\n",
       "\n",
       "    .dataframe tbody tr th {\n",
       "        vertical-align: top;\n",
       "    }\n",
       "\n",
       "    .dataframe thead th {\n",
       "        text-align: right;\n",
       "    }\n",
       "</style>\n",
       "<table border=\"1\" class=\"dataframe\">\n",
       "  <thead>\n",
       "    <tr style=\"text-align: right;\">\n",
       "      <th></th>\n",
       "      <th>label</th>\n",
       "      <th>class</th>\n",
       "      <th>news</th>\n",
       "    </tr>\n",
       "  </thead>\n",
       "  <tbody>\n",
       "    <tr>\n",
       "      <th>0</th>\n",
       "      <td>False</td>\n",
       "      <td>1</td>\n",
       "      <td>Says the Annies List political group supports ...</td>\n",
       "    </tr>\n",
       "    <tr>\n",
       "      <th>1</th>\n",
       "      <td>True</td>\n",
       "      <td>0</td>\n",
       "      <td>When did the decline of coal start? It started...</td>\n",
       "    </tr>\n",
       "    <tr>\n",
       "      <th>2</th>\n",
       "      <td>True</td>\n",
       "      <td>0</td>\n",
       "      <td>Hillary Clinton agrees with John McCain \"by vo...</td>\n",
       "    </tr>\n",
       "    <tr>\n",
       "      <th>3</th>\n",
       "      <td>False</td>\n",
       "      <td>1</td>\n",
       "      <td>Health care reform legislation is likely to ma...</td>\n",
       "    </tr>\n",
       "    <tr>\n",
       "      <th>4</th>\n",
       "      <td>True</td>\n",
       "      <td>0</td>\n",
       "      <td>The economic turnaround started at the end of ...</td>\n",
       "    </tr>\n",
       "  </tbody>\n",
       "</table>\n",
       "</div>"
      ],
      "text/plain": [
       "   label  class                                               news\n",
       "0  False      1  Says the Annies List political group supports ...\n",
       "1   True      0  When did the decline of coal start? It started...\n",
       "2   True      0  Hillary Clinton agrees with John McCain \"by vo...\n",
       "3  False      1  Health care reform legislation is likely to ma...\n",
       "4   True      0  The economic turnaround started at the end of ..."
      ]
     },
     "execution_count": 6,
     "metadata": {},
     "output_type": "execute_result"
    }
   ],
   "source": [
    "df1.head()"
   ]
  },
  {
   "cell_type": "markdown",
   "metadata": {},
   "source": [
    "Now to combine the title and text column to form one variable column that'll be fed into the model"
   ]
  },
  {
   "cell_type": "code",
   "execution_count": 7,
   "metadata": {
    "execution": {
     "iopub.execute_input": "2023-06-28T12:36:32.096058Z",
     "iopub.status.busy": "2023-06-28T12:36:32.095310Z",
     "iopub.status.idle": "2023-06-28T12:36:32.380468Z",
     "shell.execute_reply": "2023-06-28T12:36:32.379431Z",
     "shell.execute_reply.started": "2023-06-28T12:36:32.096013Z"
    }
   },
   "outputs": [
    {
     "data": {
      "text/html": [
       "<div>\n",
       "<style scoped>\n",
       "    .dataframe tbody tr th:only-of-type {\n",
       "        vertical-align: middle;\n",
       "    }\n",
       "\n",
       "    .dataframe tbody tr th {\n",
       "        vertical-align: top;\n",
       "    }\n",
       "\n",
       "    .dataframe thead th {\n",
       "        text-align: right;\n",
       "    }\n",
       "</style>\n",
       "<table border=\"1\" class=\"dataframe\">\n",
       "  <thead>\n",
       "    <tr style=\"text-align: right;\">\n",
       "      <th></th>\n",
       "      <th>text</th>\n",
       "      <th>class</th>\n",
       "    </tr>\n",
       "  </thead>\n",
       "  <tbody>\n",
       "    <tr>\n",
       "      <th>0</th>\n",
       "      <td>Donald Trump s White House is in chaos, and th...</td>\n",
       "      <td>0</td>\n",
       "    </tr>\n",
       "    <tr>\n",
       "      <th>1</th>\n",
       "      <td>Now that Donald Trump is the presumptive GOP n...</td>\n",
       "      <td>0</td>\n",
       "    </tr>\n",
       "    <tr>\n",
       "      <th>2</th>\n",
       "      <td>Mike Pence is a huge homophobe. He supports ex...</td>\n",
       "      <td>0</td>\n",
       "    </tr>\n",
       "    <tr>\n",
       "      <th>3</th>\n",
       "      <td>SAN FRANCISCO (Reuters) - California Attorney ...</td>\n",
       "      <td>1</td>\n",
       "    </tr>\n",
       "    <tr>\n",
       "      <th>4</th>\n",
       "      <td>Twisted reasoning is all that comes from Pelos...</td>\n",
       "      <td>0</td>\n",
       "    </tr>\n",
       "  </tbody>\n",
       "</table>\n",
       "</div>"
      ],
      "text/plain": [
       "                                                text  class\n",
       "0  Donald Trump s White House is in chaos, and th...      0\n",
       "1  Now that Donald Trump is the presumptive GOP n...      0\n",
       "2  Mike Pence is a huge homophobe. He supports ex...      0\n",
       "3  SAN FRANCISCO (Reuters) - California Attorney ...      1\n",
       "4  Twisted reasoning is all that comes from Pelos...      0"
      ]
     },
     "execution_count": 7,
     "metadata": {},
     "output_type": "execute_result"
    }
   ],
   "source": [
    "# Create new text column which includes title\n",
    "df_model = df.copy()\n",
    "df_model['text'] = df_model['text'] + \" \" + df_model['title']\n",
    "\n",
    "# Drop unwanted columns\n",
    "df_model = df_model.drop('title', axis = 1)\n",
    "\n",
    "# Check\n",
    "df_model.head()"
   ]
  },
  {
   "cell_type": "code",
   "execution_count": 8,
   "metadata": {
    "execution": {
     "iopub.execute_input": "2023-06-28T12:36:32.383437Z",
     "iopub.status.busy": "2023-06-28T12:36:32.382384Z",
     "iopub.status.idle": "2023-06-28T12:36:32.981412Z",
     "shell.execute_reply": "2023-06-28T12:36:32.980571Z",
     "shell.execute_reply.started": "2023-06-28T12:36:32.383399Z"
    }
   },
   "outputs": [
    {
     "data": {
      "image/png": "[encoded data removed]",
      "text/plain": [
       "<Figure size 640x480 with 1 Axes>"
      ]
     },
     "metadata": {},
     "output_type": "display_data"
    }
   ],
   "source": [
    "# Calculate the sequence lengths\n",
    "sequence_lengths = [len(seq) for seq in df_model['text']]\n",
    "\n",
    "# Plot a histogram\n",
    "plt.hist(sequence_lengths, bins=50)\n",
    "plt.xlabel('Sequence Length')\n",
    "plt.ylabel('Frequency')\n",
    "plt.title('Distribution of Sequence Lengths')\n",
    "plt.show()\n"
   ]
  },
  {
   "cell_type": "code",
   "execution_count": 9,
   "metadata": {
    "execution": {
     "iopub.execute_input": "2023-06-28T12:36:32.986285Z",
     "iopub.status.busy": "2023-06-28T12:36:32.985498Z",
     "iopub.status.idle": "2023-06-28T12:36:33.973663Z",
     "shell.execute_reply": "2023-06-28T12:36:33.972682Z",
     "shell.execute_reply.started": "2023-06-28T12:36:32.986259Z"
    }
   },
   "outputs": [],
   "source": [
    "from collections import Counter\n",
    "\n",
    "from bs4 import BeautifulSoup\n",
    "from nltk.corpus import stopwords\n",
    "import nltk\n",
    "\n",
    "from nltk.stem import WordNetLemmatizer\n",
    "from nltk.tokenize import word_tokenize,sent_tokenize\n",
    "\n",
    "import string \n",
    "\n",
    "from wordcloud import WordCloud,STOPWORDS\n",
    "\n",
    "from sklearn.feature_extraction.text import CountVectorizer\n",
    "from sklearn.metrics import classification_report,confusion_matrix,accuracy_score\n"
   ]
  },
  {
   "cell_type": "markdown",
   "metadata": {},
   "source": [
    "We will use BeautifulSoup to remove urls and create a function that does so for reusability."
   ]
  },
  {
   "cell_type": "code",
   "execution_count": 10,
   "metadata": {
    "execution": {
     "iopub.execute_input": "2023-06-28T12:36:33.976103Z",
     "iopub.status.busy": "2023-06-28T12:36:33.975266Z",
     "iopub.status.idle": "2023-06-28T12:36:33.982506Z",
     "shell.execute_reply": "2023-06-28T12:36:33.981352Z",
     "shell.execute_reply.started": "2023-06-28T12:36:33.976065Z"
    }
   },
   "outputs": [],
   "source": [
    "# Define function to remove html\n",
    "def remove_html(text):\n",
    "    soup = BeautifulSoup(text, 'html.parser')\n",
    "    cleantext = soup.get_text()\n",
    "    return cleantext"
   ]
  },
  {
   "cell_type": "code",
   "execution_count": 11,
   "metadata": {
    "execution": {
     "iopub.execute_input": "2023-06-28T12:36:33.985108Z",
     "iopub.status.busy": "2023-06-28T12:36:33.984351Z",
     "iopub.status.idle": "2023-06-28T12:36:38.818617Z",
     "shell.execute_reply": "2023-06-28T12:36:38.817577Z",
     "shell.execute_reply.started": "2023-06-28T12:36:33.985074Z"
    }
   },
   "outputs": [
    {
     "name": "stderr",
     "output_type": "stream",
     "text": [
      "/tmp/ipykernel_28/3548029525.py:3: MarkupResemblesLocatorWarning: The input looks more like a filename than markup. You may want to open this file and pass the filehandle into Beautiful Soup.\n",
      "  soup = BeautifulSoup(text, 'html.parser')\n"
     ]
    }
   ],
   "source": [
    "# Apply function\n",
    "df_clean = df_model.copy()\n",
    "df_clean['text'] = df_clean['text'].apply(remove_html)\n"
   ]
  },
  {
   "cell_type": "code",
   "execution_count": 12,
   "metadata": {
    "execution": {
     "iopub.execute_input": "2023-06-28T12:36:38.820688Z",
     "iopub.status.busy": "2023-06-28T12:36:38.820329Z",
     "iopub.status.idle": "2023-06-28T12:36:38.829462Z",
     "shell.execute_reply": "2023-06-28T12:36:38.828290Z",
     "shell.execute_reply.started": "2023-06-28T12:36:38.820639Z"
    }
   },
   "outputs": [
    {
     "data": {
      "text/plain": [
       "'Donald Trump s White House is in chaos, and they are trying to cover it up. Their Russia problems are mounting by the hour, and they refuse to acknowledge that there are problems surrounding all of this. To them, it s  fake news,  or a  hoax.  However, the facts bear things out differently, and it seems that there are now cracks in the Congressional public leadership.Chuck Grassley (R-Iowa), who heads the Senate Judiciary Committee, is fed up. He is now demanding that Donald Trump, Jr. and former 2016 Trump Campaign Manager Paul Manafort testify before his committee regarding the now infamous shady meeting between Donald Trump and the shady Russian lawyer who promised dirt on 2016 Democratic Presidential nominee Hillary Clinton. In fact, this information is due, well, NOW. This demand sends a few signals to team Trump   most notably that they should not fire Special Counsel Robert Mueller under any circumstances, despite the fact that it seems that this seems to be what Trump s White H'"
      ]
     },
     "execution_count": 12,
     "metadata": {},
     "output_type": "execute_result"
    }
   ],
   "source": [
    "# Preview first entry\n",
    "df_clean['text'][0][:1000]"
   ]
  },
  {
   "cell_type": "markdown",
   "metadata": {},
   "source": [
    "We will look to remove stopwords."
   ]
  },
  {
   "cell_type": "code",
   "execution_count": 13,
   "metadata": {
    "execution": {
     "iopub.execute_input": "2023-06-28T12:36:38.832049Z",
     "iopub.status.busy": "2023-06-28T12:36:38.831571Z",
     "iopub.status.idle": "2023-06-28T12:36:38.843027Z",
     "shell.execute_reply": "2023-06-28T12:36:38.842052Z",
     "shell.execute_reply.started": "2023-06-28T12:36:38.832005Z"
    }
   },
   "outputs": [],
   "source": [
    "# Define stopwords\n",
    "stop = set(stopwords.words('english'))"
   ]
  },
  {
   "cell_type": "markdown",
   "metadata": {},
   "source": [
    "We will create a function which returns the text without stopwords."
   ]
  },
  {
   "cell_type": "code",
   "execution_count": 14,
   "metadata": {
    "execution": {
     "iopub.execute_input": "2023-06-28T12:36:38.845353Z",
     "iopub.status.busy": "2023-06-28T12:36:38.844919Z",
     "iopub.status.idle": "2023-06-28T12:36:38.852766Z",
     "shell.execute_reply": "2023-06-28T12:36:38.851445Z",
     "shell.execute_reply.started": "2023-06-28T12:36:38.845318Z"
    }
   },
   "outputs": [],
   "source": [
    "# Define function to remove stopwords\n",
    "def remove_stopwords(text):\n",
    "    words = []\n",
    "    for word in text.split():\n",
    "        if word.strip().lower() not in stop:\n",
    "            words.append(word.strip())\n",
    "    cleantext = \" \".join(words)\n",
    "    return cleantext"
   ]
  },
  {
   "cell_type": "code",
   "execution_count": 15,
   "metadata": {
    "execution": {
     "iopub.execute_input": "2023-06-28T12:36:38.855018Z",
     "iopub.status.busy": "2023-06-28T12:36:38.854585Z",
     "iopub.status.idle": "2023-06-28T12:36:47.911168Z",
     "shell.execute_reply": "2023-06-28T12:36:47.910082Z",
     "shell.execute_reply.started": "2023-06-28T12:36:38.854983Z"
    }
   },
   "outputs": [],
   "source": [
    "# Apply function to text\n",
    "df_clean['text'] = df_clean['text'].apply(remove_stopwords)"
   ]
  },
  {
   "cell_type": "code",
   "execution_count": 16,
   "metadata": {
    "execution": {
     "iopub.execute_input": "2023-06-28T12:36:47.913370Z",
     "iopub.status.busy": "2023-06-28T12:36:47.912990Z",
     "iopub.status.idle": "2023-06-28T12:36:47.920509Z",
     "shell.execute_reply": "2023-06-28T12:36:47.919584Z",
     "shell.execute_reply.started": "2023-06-28T12:36:47.913338Z"
    }
   },
   "outputs": [
    {
     "data": {
      "text/plain": [
       "'Donald Trump White House chaos, trying cover up. Russia problems mounting hour, refuse acknowledge problems surrounding this. them, fake news, hoax. However, facts bear things differently, seems cracks Congressional public leadership.Chuck Grassley (R-Iowa), heads Senate Judiciary Committee, fed up. demanding Donald Trump, Jr. former 2016 Trump Campaign Manager Paul Manafort testify committee regarding infamous shady meeting Donald Trump shady Russian lawyer promised dirt 2016 Democratic Presidential nominee Hillary Clinton. fact, information due, well, NOW. demand sends signals team Trump notably fire Special Counsel Robert Mueller circumstances, despite fact seems seems Trump White House laying groundwork, speak, speak.Here tweet regarding Grassley warning:Also, anyone thinks Senator Grassley rest Senate serious needs look warning already given: Trump Jr. Manafort either follow orders, served subpoenas force comply. refuse, held contempt Congress, carries serious jail time.Even cruel'"
      ]
     },
     "execution_count": 16,
     "metadata": {},
     "output_type": "execute_result"
    }
   ],
   "source": [
    "# Preview first entry\n",
    "df_clean['text'][0][:1000]"
   ]
  },
  {
   "cell_type": "markdown",
   "metadata": {},
   "source": [
    "**Next we will remove punctuation**"
   ]
  },
  {
   "cell_type": "code",
   "execution_count": 17,
   "metadata": {
    "execution": {
     "iopub.execute_input": "2023-06-28T12:36:47.922734Z",
     "iopub.status.busy": "2023-06-28T12:36:47.921824Z",
     "iopub.status.idle": "2023-06-28T12:36:47.931244Z",
     "shell.execute_reply": "2023-06-28T12:36:47.930177Z",
     "shell.execute_reply.started": "2023-06-28T12:36:47.922700Z"
    }
   },
   "outputs": [],
   "source": [
    "# Define punctuation\n",
    "punctuation = list(string.punctuation)\n",
    "punctuation.append(\"“\")\n",
    "punctuation.append(\"”\")\n",
    "punctuation.append(\"’\")"
   ]
  },
  {
   "cell_type": "code",
   "execution_count": 18,
   "metadata": {
    "execution": {
     "iopub.execute_input": "2023-06-28T12:36:47.933100Z",
     "iopub.status.busy": "2023-06-28T12:36:47.932655Z",
     "iopub.status.idle": "2023-06-28T12:36:47.942244Z",
     "shell.execute_reply": "2023-06-28T12:36:47.941325Z",
     "shell.execute_reply.started": "2023-06-28T12:36:47.933065Z"
    }
   },
   "outputs": [],
   "source": [
    "# Define function to remove punctuation\n",
    "def remove_punctuation(text):\n",
    "    no_punct = \"\"\n",
    "    for char in text:\n",
    "        if char not in punctuation:\n",
    "            no_punct += char\n",
    "    return no_punct"
   ]
  },
  {
   "cell_type": "code",
   "execution_count": 19,
   "metadata": {
    "execution": {
     "iopub.execute_input": "2023-06-28T12:36:47.944011Z",
     "iopub.status.busy": "2023-06-28T12:36:47.943509Z",
     "iopub.status.idle": "2023-06-28T12:38:31.726597Z",
     "shell.execute_reply": "2023-06-28T12:38:31.725657Z",
     "shell.execute_reply.started": "2023-06-28T12:36:47.943982Z"
    }
   },
   "outputs": [],
   "source": [
    "# Apply function to text\n",
    "df_clean['text'] = df_clean['text'].apply(remove_punctuation)\n"
   ]
  },
  {
   "cell_type": "code",
   "execution_count": 20,
   "metadata": {
    "execution": {
     "iopub.execute_input": "2023-06-28T12:38:31.729275Z",
     "iopub.status.busy": "2023-06-28T12:38:31.728880Z",
     "iopub.status.idle": "2023-06-28T12:38:31.735377Z",
     "shell.execute_reply": "2023-06-28T12:38:31.734522Z",
     "shell.execute_reply.started": "2023-06-28T12:38:31.729245Z"
    }
   },
   "outputs": [
    {
     "data": {
      "text/plain": [
       "'Donald Trump White House chaos trying cover up Russia problems mounting hour refuse acknowledge problems surrounding this them fake news hoax However facts bear things differently seems cracks Congressional public leadershipChuck Grassley RIowa heads Senate Judiciary Committee fed up demanding Donald Trump Jr former 2016 Trump Campaign Manager Paul Manafort testify committee regarding infamous shady meeting Donald Trump shady Russian lawyer promised dirt 2016 Democratic Presidential nominee Hillary Clinton fact information due well NOW demand sends signals team Trump notably fire Special Counsel Robert Mueller circumstances despite fact seems seems Trump White House laying groundwork speak speakHere tweet regarding Grassley warningAlso anyone thinks Senator Grassley rest Senate serious needs look warning already given Trump Jr Manafort either follow orders served subpoenas force comply refuse held contempt Congress carries serious jail timeEven cruel craven creatures within GOP sick Do'"
      ]
     },
     "execution_count": 20,
     "metadata": {},
     "output_type": "execute_result"
    }
   ],
   "source": [
    "# Preview first entry\n",
    "df_clean['text'][0][:1000]"
   ]
  },
  {
   "cell_type": "markdown",
   "metadata": {},
   "source": [
    "## Modelling"
   ]
  },
  {
   "cell_type": "code",
   "execution_count": 21,
   "metadata": {
    "execution": {
     "iopub.execute_input": "2023-06-28T12:38:31.737437Z",
     "iopub.status.busy": "2023-06-28T12:38:31.736864Z",
     "iopub.status.idle": "2023-06-28T12:38:31.750550Z",
     "shell.execute_reply": "2023-06-28T12:38:31.749651Z",
     "shell.execute_reply.started": "2023-06-28T12:38:31.737403Z"
    }
   },
   "outputs": [],
   "source": [
    "from sklearn.model_selection import train_test_split\n",
    "from tensorflow.keras.preprocessing.text import Tokenizer\n",
    "from tensorflow.keras.preprocessing.sequence import pad_sequences\n",
    "from tensorflow.keras.layers import Input, Embedding, LSTM, Bidirectional, Dense, Concatenate\n",
    "from tensorflow.keras.models import Sequential\n",
    "from tensorflow.keras.initializers import Constant\n",
    "from tensorflow.keras.optimizers import Adam"
   ]
  },
  {
   "cell_type": "code",
   "execution_count": 22,
   "metadata": {
    "execution": {
     "iopub.execute_input": "2023-06-28T12:38:31.752109Z",
     "iopub.status.busy": "2023-06-28T12:38:31.751789Z",
     "iopub.status.idle": "2023-06-28T12:38:50.421702Z",
     "shell.execute_reply": "2023-06-28T12:38:50.419447Z",
     "shell.execute_reply.started": "2023-06-28T12:38:31.752078Z"
    }
   },
   "outputs": [],
   "source": [
    "# Split the dataset into train and test sets\n",
    "train_df, test_df = train_test_split(df_clean, test_size=0.2, random_state=42)\n",
    "\n",
    "# setting some variables\n",
    "\n",
    "trunc_type='post'\n",
    "padding_type='post'\n",
    "oov_tok = \"<OOV>\"\n",
    "\n",
    "\n",
    "# Tokenize the text column\n",
    "tokenizer_text = Tokenizer(num_words = 10000, oov_token=oov_tok)\n",
    "tokenizer_text.fit_on_texts(train_df['text'])\n",
    "word_index_text = tokenizer_text.word_index\n",
    "\n",
    "# Convert text to sequences for the text column\n",
    "train_sequences_text = tokenizer_text.texts_to_sequences(train_df['text'])\n",
    "test_sequences_text = tokenizer_text.texts_to_sequences(test_df['text'])\n",
    "\n",
    "# Pad sequences for the text column\n",
    "# max_sequence_length_text = 10000  # Specify the maximum length of the sequences for the text column\n",
    "train_data_text = pad_sequences(train_sequences_text, maxlen=300, padding=padding_type, truncating=trunc_type)\n",
    "test_data_text = pad_sequences(test_sequences_text, maxlen=300, padding=padding_type, truncating=trunc_type)\n",
    "\n",
    "# Prepare the target variable\n",
    "train_labels = train_df['class'].values\n",
    "test_labels = test_df['class'].values"
   ]
  },
  {
   "cell_type": "code",
   "execution_count": 23,
   "metadata": {
    "execution": {
     "iopub.execute_input": "2023-06-28T12:38:50.424246Z",
     "iopub.status.busy": "2023-06-28T12:38:50.423564Z",
     "iopub.status.idle": "2023-06-28T12:38:50.439421Z",
     "shell.execute_reply": "2023-06-28T12:38:50.437790Z",
     "shell.execute_reply.started": "2023-06-28T12:38:50.424202Z"
    }
   },
   "outputs": [
    {
     "name": "stdout",
     "output_type": "stream",
     "text": [
      "Embedding Dimension: 100\n"
     ]
    }
   ],
   "source": [
    "embedding_file = '/kaggle/input/arif-ref-gig/glove.6B.100d.txt'\n",
    "\n",
    "with open(embedding_file, 'r', encoding='utf-8') as file:\n",
    "    first_line = file.readline()\n",
    "    embedding_dimension = len(first_line.split()) - 1\n",
    "\n",
    "print(\"Embedding Dimension:\", embedding_dimension)"
   ]
  },
  {
   "cell_type": "code",
   "execution_count": 24,
   "metadata": {
    "execution": {
     "iopub.execute_input": "2023-06-28T12:38:50.446967Z",
     "iopub.status.busy": "2023-06-28T12:38:50.445894Z",
     "iopub.status.idle": "2023-06-28T12:38:59.300777Z",
     "shell.execute_reply": "2023-06-28T12:38:59.299737Z",
     "shell.execute_reply.started": "2023-06-28T12:38:50.446935Z"
    }
   },
   "outputs": [],
   "source": [
    "# Load GloVe word embeddings\n",
    "glove_file = '/kaggle/input/arif-ref-gig/glove.6B.100d.txt'  # Specify the path to your GloVe embedding file\n",
    "embedding_dim = 100  # Specify the dimensionality of the GloVe embeddings\n",
    "\n",
    "# Create embedding matrix for text column\n",
    "embedding_matrix_text = np.zeros((len(word_index_text) + 1, embedding_dim))\n",
    "with open(glove_file, 'r', encoding='utf8') as f:\n",
    "    for line in f:\n",
    "        values = line.split()\n",
    "        word = values[0]\n",
    "        if word in word_index_text:\n",
    "            embedding_matrix_text[word_index_text[word]] = np.array(values[1:], dtype='float32')\n"
   ]
  },
  {
   "cell_type": "code",
   "execution_count": 25,
   "metadata": {
    "execution": {
     "iopub.execute_input": "2023-06-28T12:38:59.302656Z",
     "iopub.status.busy": "2023-06-28T12:38:59.302260Z",
     "iopub.status.idle": "2023-06-28T12:38:59.311646Z",
     "shell.execute_reply": "2023-06-28T12:38:59.310606Z",
     "shell.execute_reply.started": "2023-06-28T12:38:59.302618Z"
    }
   },
   "outputs": [
    {
     "data": {
      "text/plain": [
       "208638"
      ]
     },
     "execution_count": 25,
     "metadata": {},
     "output_type": "execute_result"
    }
   ],
   "source": [
    "len(word_index_text) + 1"
   ]
  },
  {
   "cell_type": "code",
   "execution_count": 26,
   "metadata": {
    "execution": {
     "iopub.execute_input": "2023-06-28T12:38:59.314229Z",
     "iopub.status.busy": "2023-06-28T12:38:59.313454Z",
     "iopub.status.idle": "2023-06-28T12:39:04.734647Z",
     "shell.execute_reply": "2023-06-28T12:39:04.733866Z",
     "shell.execute_reply.started": "2023-06-28T12:38:59.314196Z"
    }
   },
   "outputs": [
    {
     "name": "stdout",
     "output_type": "stream",
     "text": [
      "Model: \"sequential\"\n",
      "_________________________________________________________________\n",
      " Layer (type)                Output Shape              Param #   \n",
      "=================================================================\n",
      " embedding (Embedding)       (None, 300, 100)          20863800  \n",
      "                                                                 \n",
      " lstm (LSTM)                 (None, 300, 128)          117248    \n",
      "                                                                 \n",
      " lstm_1 (LSTM)               (None, 64)                49408     \n",
      "                                                                 \n",
      " dense (Dense)               (None, 42)                2730      \n",
      "                                                                 \n",
      " dense_1 (Dense)             (None, 1)                 43        \n",
      "                                                                 \n",
      "=================================================================\n",
      "Total params: 21,033,229\n",
      "Trainable params: 169,429\n",
      "Non-trainable params: 20,863,800\n",
      "_________________________________________________________________\n"
     ]
    }
   ],
   "source": [
    "# Build the model\n",
    "# model = Sequential()\n",
    "# model.add(Embedding(len(word_index_text) + 1, embedding_dim, embeddings_initializer=Constant(embedding_matrix_text),\n",
    "#                    input_length=max_sequence_length_text, trainable=False))\n",
    "# model.add(LSTM(units=128,\n",
    "#              return_sequences = True))\n",
    "\n",
    "# model.add(LSTM(units = 64))\n",
    "\n",
    "# model.add(Dense(units = 42, activation = 'relu'))\n",
    "# model.add(Dense(1, activation='sigmoid'))\n",
    "\n",
    "\n",
    "# Define model\n",
    "model = Sequential()\n",
    "\n",
    "# Add embedding layer (non-trainable)\n",
    "model.add(Embedding(len(word_index_text) + 1, \n",
    "                    output_dim = 100,\n",
    "                    weights = [embedding_matrix_text],\n",
    "                    input_length = 300,\n",
    "                    trainable = False))\n",
    "\n",
    "# Add other layers\n",
    "model.add(LSTM(units = 128,\n",
    "               return_sequences = True, \n",
    "               recurrent_dropout = 0.25,\n",
    "               dropout = 0.25))\n",
    "\n",
    "model.add(LSTM(units = 64,\n",
    "               recurrent_dropout = 0.1,\n",
    "               dropout = 0.1))\n",
    "\n",
    "model.add(Dense(units = 42, activation = 'relu'))\n",
    "\n",
    "model.add(Dense(units = 1, activation = 'sigmoid'))\n",
    "# Define the optimizer\n",
    "optimizer = Adam(learning_rate=0.01)\n",
    "\n",
    "# Compile the model with the optimizer\n",
    "model.compile(optimizer=optimizer, loss='binary_crossentropy', metrics=['accuracy'])\n",
    "\n",
    " # Get summary\n",
    "model.summary()         "
   ]
  },
  {
   "cell_type": "code",
   "execution_count": 27,
   "metadata": {
    "execution": {
     "iopub.execute_input": "2023-06-28T12:39:04.736374Z",
     "iopub.status.busy": "2023-06-28T12:39:04.736040Z",
     "iopub.status.idle": "2023-06-28T16:38:06.507008Z",
     "shell.execute_reply": "2023-06-28T16:38:06.506057Z",
     "shell.execute_reply.started": "2023-06-28T12:39:04.736343Z"
    }
   },
   "outputs": [
    {
     "name": "stdout",
     "output_type": "stream",
     "text": [
      "Epoch 1/10\n",
      "562/562 [==============================] - 1469s 3s/step - loss: 0.6443 - accuracy: 0.6162 - val_loss: 0.5931 - val_accuracy: 0.6904\n",
      "Epoch 2/10\n",
      "562/562 [==============================] - 1446s 3s/step - loss: 0.5809 - accuracy: 0.6911 - val_loss: 0.4648 - val_accuracy: 0.8124\n",
      "Epoch 3/10\n",
      "562/562 [==============================] - 1418s 3s/step - loss: 0.2960 - accuracy: 0.8597 - val_loss: 0.0265 - val_accuracy: 0.9938\n",
      "Epoch 4/10\n",
      "562/562 [==============================] - 1436s 3s/step - loss: 0.0203 - accuracy: 0.9956 - val_loss: 0.0353 - val_accuracy: 0.9930\n",
      "Epoch 5/10\n",
      "562/562 [==============================] - 1430s 3s/step - loss: 0.0146 - accuracy: 0.9970 - val_loss: 0.0167 - val_accuracy: 0.9961\n",
      "Epoch 6/10\n",
      "562/562 [==============================] - 1430s 3s/step - loss: 0.0401 - accuracy: 0.9862 - val_loss: 0.0243 - val_accuracy: 0.9928\n",
      "Epoch 7/10\n",
      "562/562 [==============================] - 1429s 3s/step - loss: 0.0213 - accuracy: 0.9939 - val_loss: 0.0174 - val_accuracy: 0.9945\n",
      "Epoch 8/10\n",
      "562/562 [==============================] - 1426s 3s/step - loss: 0.0283 - accuracy: 0.9925 - val_loss: 0.0175 - val_accuracy: 0.9947\n",
      "Epoch 9/10\n",
      "562/562 [==============================] - 1432s 3s/step - loss: 0.0179 - accuracy: 0.9952 - val_loss: 0.0140 - val_accuracy: 0.9965\n",
      "Epoch 10/10\n",
      "562/562 [==============================] - 1425s 3s/step - loss: 0.0164 - accuracy: 0.9955 - val_loss: 0.0127 - val_accuracy: 0.9972\n"
     ]
    }
   ],
   "source": [
    "# Fit model\n",
    "history = model.fit(train_data_text, \n",
    "                    train_labels, \n",
    "                    batch_size = 64 , \n",
    "                    validation_data = (test_data_text, test_labels) , \n",
    "                    epochs = 10)"
   ]
  },
  {
   "cell_type": "code",
   "execution_count": 29,
   "metadata": {
    "execution": {
     "iopub.execute_input": "2023-06-28T16:47:34.527290Z",
     "iopub.status.busy": "2023-06-28T16:47:34.526918Z",
     "iopub.status.idle": "2023-06-28T16:48:56.506426Z",
     "shell.execute_reply": "2023-06-28T16:48:56.505389Z",
     "shell.execute_reply.started": "2023-06-28T16:47:34.527258Z"
    }
   },
   "outputs": [
    {
     "name": "stdout",
     "output_type": "stream",
     "text": [
      "281/281 [==============================] - 48s 172ms/step - loss: 0.0127 - accuracy: 0.9972\n",
      "Test Loss: 0.0127\n",
      "Test Accuracy: 0.9972\n"
     ]
    }
   ],
   "source": [
    "loss, accuracy = model.evaluate(test_data_text, test_labels)\n",
    "print(f\"Test Loss: {loss:.4f}\")\n",
    "print(f\"Test Accuracy: {accuracy:.4f}\")"
   ]
  }
 ],
 "metadata": {
  "kernelspec": {
   "display_name": "Python 3 (ipykernel)",
   "language": "python",
   "name": "python3"
  },
  "language_info": {
   "codemirror_mode": {
    "name": "ipython",
    "version": 3
   },
   "file_extension": ".py",
   "mimetype": "text/x-python",
   "name": "python",
   "nbconvert_exporter": "python",
   "pygments_lexer": "ipython3",
   "version": "3.9.13"
  }
 },
 "nbformat": 4,
 "nbformat_minor": 4
}
