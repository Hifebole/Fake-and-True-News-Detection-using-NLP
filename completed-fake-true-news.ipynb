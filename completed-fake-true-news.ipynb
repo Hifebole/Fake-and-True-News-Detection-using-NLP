{
 "cells": [
  {
   "cell_type": "code",
   "execution_count": 1,
   "metadata": {},
   "outputs": [],
   "source": [
    "# import tensorflow as tf\n",
    "# physical_device = tf.config.experimental.list_physical_devices('GPU')\n",
    "# print(f'Device found : {physical_device}') "
   ]
  },
  {
   "cell_type": "code",
   "execution_count": 2,
   "metadata": {},
   "outputs": [],
   "source": [
    "# tf.debugging.set_log_device_placement(True)\n",
    "\n",
    "# # Create some tensors\n",
    "# a = tf.constant([[1.0, 2.0, 3.0], [4.0, 5.0, 6.0]])\n",
    "# b = tf.constant([[1.0, 2.0], [3.0, 4.0], [5.0, 6.0]])\n",
    "# c = tf.matmul(a, b)\n",
    "\n",
    "# print(c)"
   ]
  },
  {
   "cell_type": "code",
   "execution_count": 3,
   "metadata": {},
   "outputs": [],
   "source": [
    "import pandas as pd\n",
    "import numpy as np\n",
    "import matplotlib.pyplot as plt\n",
    "import seaborn as sb\n",
    "import tensorflow as tf\n",
    "import random"
   ]
  },
  {
   "cell_type": "code",
   "execution_count": 4,
   "metadata": {},
   "outputs": [],
   "source": [
    "# Set the random seed\n",
    "seed_value = 42\n",
    "random.seed(seed_value)"
   ]
  },
  {
   "cell_type": "code",
   "execution_count": 5,
   "metadata": {},
   "outputs": [],
   "source": [
    "df = pd.read_csv('comb_true_fake.csv', index_col=0)\n",
    "df1 = pd.read_csv('clean_fake_news_dataset.csv', index_col=0)"
   ]
  },
  {
   "cell_type": "code",
   "execution_count": 6,
   "metadata": {},
   "outputs": [
    {
     "data": {
      "text/html": [
       "<div>\n",
       "<style scoped>\n",
       "    .dataframe tbody tr th:only-of-type {\n",
       "        vertical-align: middle;\n",
       "    }\n",
       "\n",
       "    .dataframe tbody tr th {\n",
       "        vertical-align: top;\n",
       "    }\n",
       "\n",
       "    .dataframe thead th {\n",
       "        text-align: right;\n",
       "    }\n",
       "</style>\n",
       "<table border=\"1\" class=\"dataframe\">\n",
       "  <thead>\n",
       "    <tr style=\"text-align: right;\">\n",
       "      <th></th>\n",
       "      <th>title</th>\n",
       "      <th>text</th>\n",
       "      <th>class</th>\n",
       "    </tr>\n",
       "  </thead>\n",
       "  <tbody>\n",
       "    <tr>\n",
       "      <th>0</th>\n",
       "      <td>BREAKING: GOP Chairman Grassley Has Had Enoug...</td>\n",
       "      <td>Donald Trump s White House is in chaos, and th...</td>\n",
       "      <td>0</td>\n",
       "    </tr>\n",
       "    <tr>\n",
       "      <th>1</th>\n",
       "      <td>Failed GOP Candidates Remembered In Hilarious...</td>\n",
       "      <td>Now that Donald Trump is the presumptive GOP n...</td>\n",
       "      <td>0</td>\n",
       "    </tr>\n",
       "    <tr>\n",
       "      <th>2</th>\n",
       "      <td>Mike Pence’s New DC Neighbors Are HILARIOUSLY...</td>\n",
       "      <td>Mike Pence is a huge homophobe. He supports ex...</td>\n",
       "      <td>0</td>\n",
       "    </tr>\n",
       "    <tr>\n",
       "      <th>3</th>\n",
       "      <td>California AG pledges to defend birth control ...</td>\n",
       "      <td>SAN FRANCISCO (Reuters) - California Attorney ...</td>\n",
       "      <td>1</td>\n",
       "    </tr>\n",
       "    <tr>\n",
       "      <th>4</th>\n",
       "      <td>AZ RANCHERS Living On US-Mexico Border Destroy...</td>\n",
       "      <td>Twisted reasoning is all that comes from Pelos...</td>\n",
       "      <td>0</td>\n",
       "    </tr>\n",
       "  </tbody>\n",
       "</table>\n",
       "</div>"
      ],
      "text/plain": [
       "                                               title  \\\n",
       "0   BREAKING: GOP Chairman Grassley Has Had Enoug...   \n",
       "1   Failed GOP Candidates Remembered In Hilarious...   \n",
       "2   Mike Pence’s New DC Neighbors Are HILARIOUSLY...   \n",
       "3  California AG pledges to defend birth control ...   \n",
       "4  AZ RANCHERS Living On US-Mexico Border Destroy...   \n",
       "\n",
       "                                                text  class  \n",
       "0  Donald Trump s White House is in chaos, and th...      0  \n",
       "1  Now that Donald Trump is the presumptive GOP n...      0  \n",
       "2  Mike Pence is a huge homophobe. He supports ex...      0  \n",
       "3  SAN FRANCISCO (Reuters) - California Attorney ...      1  \n",
       "4  Twisted reasoning is all that comes from Pelos...      0  "
      ]
     },
     "execution_count": 6,
     "metadata": {},
     "output_type": "execute_result"
    }
   ],
   "source": [
    "df.head()"
   ]
  },
  {
   "cell_type": "code",
   "execution_count": 7,
   "metadata": {},
   "outputs": [
    {
     "data": {
      "text/html": [
       "<div>\n",
       "<style scoped>\n",
       "    .dataframe tbody tr th:only-of-type {\n",
       "        vertical-align: middle;\n",
       "    }\n",
       "\n",
       "    .dataframe tbody tr th {\n",
       "        vertical-align: top;\n",
       "    }\n",
       "\n",
       "    .dataframe thead th {\n",
       "        text-align: right;\n",
       "    }\n",
       "</style>\n",
       "<table border=\"1\" class=\"dataframe\">\n",
       "  <thead>\n",
       "    <tr style=\"text-align: right;\">\n",
       "      <th></th>\n",
       "      <th>label</th>\n",
       "      <th>class</th>\n",
       "      <th>news</th>\n",
       "    </tr>\n",
       "  </thead>\n",
       "  <tbody>\n",
       "    <tr>\n",
       "      <th>0</th>\n",
       "      <td>False</td>\n",
       "      <td>1</td>\n",
       "      <td>Says the Annies List political group supports ...</td>\n",
       "    </tr>\n",
       "    <tr>\n",
       "      <th>1</th>\n",
       "      <td>True</td>\n",
       "      <td>0</td>\n",
       "      <td>When did the decline of coal start? It started...</td>\n",
       "    </tr>\n",
       "    <tr>\n",
       "      <th>2</th>\n",
       "      <td>True</td>\n",
       "      <td>0</td>\n",
       "      <td>Hillary Clinton agrees with John McCain \"by vo...</td>\n",
       "    </tr>\n",
       "    <tr>\n",
       "      <th>3</th>\n",
       "      <td>False</td>\n",
       "      <td>1</td>\n",
       "      <td>Health care reform legislation is likely to ma...</td>\n",
       "    </tr>\n",
       "    <tr>\n",
       "      <th>4</th>\n",
       "      <td>True</td>\n",
       "      <td>0</td>\n",
       "      <td>The economic turnaround started at the end of ...</td>\n",
       "    </tr>\n",
       "  </tbody>\n",
       "</table>\n",
       "</div>"
      ],
      "text/plain": [
       "   label  class                                               news\n",
       "0  False      1  Says the Annies List political group supports ...\n",
       "1   True      0  When did the decline of coal start? It started...\n",
       "2   True      0  Hillary Clinton agrees with John McCain \"by vo...\n",
       "3  False      1  Health care reform legislation is likely to ma...\n",
       "4   True      0  The economic turnaround started at the end of ..."
      ]
     },
     "execution_count": 7,
     "metadata": {},
     "output_type": "execute_result"
    }
   ],
   "source": [
    "df1.head()"
   ]
  },
  {
   "cell_type": "markdown",
   "metadata": {},
   "source": [
    "Now to combine the title and text column to form one variable column that'll be fed into the model"
   ]
  },
  {
   "cell_type": "code",
   "execution_count": 8,
   "metadata": {},
   "outputs": [
    {
     "data": {
      "text/html": [
       "<div>\n",
       "<style scoped>\n",
       "    .dataframe tbody tr th:only-of-type {\n",
       "        vertical-align: middle;\n",
       "    }\n",
       "\n",
       "    .dataframe tbody tr th {\n",
       "        vertical-align: top;\n",
       "    }\n",
       "\n",
       "    .dataframe thead th {\n",
       "        text-align: right;\n",
       "    }\n",
       "</style>\n",
       "<table border=\"1\" class=\"dataframe\">\n",
       "  <thead>\n",
       "    <tr style=\"text-align: right;\">\n",
       "      <th></th>\n",
       "      <th>text</th>\n",
       "      <th>class</th>\n",
       "    </tr>\n",
       "  </thead>\n",
       "  <tbody>\n",
       "    <tr>\n",
       "      <th>0</th>\n",
       "      <td>Donald Trump s White House is in chaos, and th...</td>\n",
       "      <td>0</td>\n",
       "    </tr>\n",
       "    <tr>\n",
       "      <th>1</th>\n",
       "      <td>Now that Donald Trump is the presumptive GOP n...</td>\n",
       "      <td>0</td>\n",
       "    </tr>\n",
       "    <tr>\n",
       "      <th>2</th>\n",
       "      <td>Mike Pence is a huge homophobe. He supports ex...</td>\n",
       "      <td>0</td>\n",
       "    </tr>\n",
       "    <tr>\n",
       "      <th>3</th>\n",
       "      <td>SAN FRANCISCO (Reuters) - California Attorney ...</td>\n",
       "      <td>1</td>\n",
       "    </tr>\n",
       "    <tr>\n",
       "      <th>4</th>\n",
       "      <td>Twisted reasoning is all that comes from Pelos...</td>\n",
       "      <td>0</td>\n",
       "    </tr>\n",
       "  </tbody>\n",
       "</table>\n",
       "</div>"
      ],
      "text/plain": [
       "                                                text  class\n",
       "0  Donald Trump s White House is in chaos, and th...      0\n",
       "1  Now that Donald Trump is the presumptive GOP n...      0\n",
       "2  Mike Pence is a huge homophobe. He supports ex...      0\n",
       "3  SAN FRANCISCO (Reuters) - California Attorney ...      1\n",
       "4  Twisted reasoning is all that comes from Pelos...      0"
      ]
     },
     "execution_count": 8,
     "metadata": {},
     "output_type": "execute_result"
    }
   ],
   "source": [
    "# Create new text column which includes title\n",
    "df_model = df.copy()\n",
    "df_model['text'] = df_model['text'] + \" \" + df_model['title']\n",
    "\n",
    "# Drop unwanted columns\n",
    "df_model = df_model.drop('title', axis = 1)\n",
    "\n",
    "# Check\n",
    "df_model.head()"
   ]
  },
  {
   "cell_type": "code",
   "execution_count": 9,
   "metadata": {},
   "outputs": [
    {
     "data": {
      "image/png": "[encoded data removed]",
      "text/plain": [
       "<Figure size 640x480 with 1 Axes>"
      ]
     },
     "metadata": {},
     "output_type": "display_data"
    }
   ],
   "source": [
    "# Calculate the sequence lengths\n",
    "sequence_lengths = [len(seq) for seq in df_model['text']]\n",
    "\n",
    "# Plot a histogram\n",
    "plt.hist(sequence_lengths, bins=50)\n",
    "plt.xlabel('Sequence Length')\n",
    "plt.ylabel('Frequency')\n",
    "plt.title('Distribution of Sequence Lengths')\n",
    "plt.show()\n"
   ]
  },
  {
   "cell_type": "code",
   "execution_count": 10,
   "metadata": {},
   "outputs": [],
   "source": [
    "from collections import Counter\n",
    "\n",
    "from bs4 import BeautifulSoup\n",
    "from nltk.corpus import stopwords\n",
    "import nltk\n",
    "\n",
    "from nltk.stem import WordNetLemmatizer\n",
    "from nltk.tokenize import word_tokenize,sent_tokenize\n",
    "\n",
    "import string \n",
    "\n",
    "from wordcloud import WordCloud,STOPWORDS\n",
    "\n",
    "from sklearn.feature_extraction.text import CountVectorizer\n",
    "from sklearn.metrics import classification_report,confusion_matrix,accuracy_score\n"
   ]
  },
  {
   "cell_type": "markdown",
   "metadata": {},
   "source": [
    "We will use BeautifulSoup to remove urls and create a function that does so for reusability."
   ]
  },
  {
   "cell_type": "code",
   "execution_count": 11,
   "metadata": {},
   "outputs": [],
   "source": [
    "# Define function to remove html\n",
    "def remove_html(text):\n",
    "    soup = BeautifulSoup(text, 'html.parser')\n",
    "    cleantext = soup.get_text()\n",
    "    return cleantext"
   ]
  },
  {
   "cell_type": "code",
   "execution_count": 12,
   "metadata": {},
   "outputs": [
    {
     "name": "stderr",
     "output_type": "stream",
     "text": [
      "C:\\Users\\Dell\\AppData\\Local\\Temp\\ipykernel_14192\\3548029525.py:3: MarkupResemblesLocatorWarning: The input looks more like a filename than markup. You may want to open this file and pass the filehandle into Beautiful Soup.\n",
      "  soup = BeautifulSoup(text, 'html.parser')\n"
     ]
    }
   ],
   "source": [
    "# Apply function\n",
    "df_clean = df_model.copy()\n",
    "df_clean['text'] = df_clean['text'].apply(remove_html)\n"
   ]
  },
  {
   "cell_type": "code",
   "execution_count": 13,
   "metadata": {},
   "outputs": [
    {
     "data": {
      "text/plain": [
       "'Donald Trump s White House is in chaos, and they are trying to cover it up. Their Russia problems are mounting by the hour, and they refuse to acknowledge that there are problems surrounding all of this. To them, it s  fake news,  or a  hoax.  However, the facts bear things out differently, and it seems that there are now cracks in the Congressional public leadership.Chuck Grassley (R-Iowa), who heads the Senate Judiciary Committee, is fed up. He is now demanding that Donald Trump, Jr. and former 2016 Trump Campaign Manager Paul Manafort testify before his committee regarding the now infamous shady meeting between Donald Trump and the shady Russian lawyer who promised dirt on 2016 Democratic Presidential nominee Hillary Clinton. In fact, this information is due, well, NOW. This demand sends a few signals to team Trump   most notably that they should not fire Special Counsel Robert Mueller under any circumstances, despite the fact that it seems that this seems to be what Trump s White H'"
      ]
     },
     "execution_count": 13,
     "metadata": {},
     "output_type": "execute_result"
    }
   ],
   "source": [
    "# Preview first entry\n",
    "df_clean['text'][0][:1000]"
   ]
  },
  {
   "cell_type": "markdown",
   "metadata": {},
   "source": [
    "We will look to remove stopwords."
   ]
  },
  {
   "cell_type": "code",
   "execution_count": 14,
   "metadata": {},
   "outputs": [],
   "source": [
    "# Define stopwords\n",
    "stop = set(stopwords.words('english'))"
   ]
  },
  {
   "cell_type": "markdown",
   "metadata": {},
   "source": [
    "We will create a function which returns the text without stopwords."
   ]
  },
  {
   "cell_type": "code",
   "execution_count": 15,
   "metadata": {},
   "outputs": [],
   "source": [
    "# Define function to remove stopwords\n",
    "def remove_stopwords(text):\n",
    "    words = []\n",
    "    for word in text.split():\n",
    "        if word.strip().lower() not in stop:\n",
    "            words.append(word.strip())\n",
    "    cleantext = \" \".join(words)\n",
    "    return cleantext"
   ]
  },
  {
   "cell_type": "code",
   "execution_count": 16,
   "metadata": {},
   "outputs": [],
   "source": [
    "# Apply function to text\n",
    "df_clean['text'] = df_clean['text'].apply(remove_stopwords)"
   ]
  },
  {
   "cell_type": "code",
   "execution_count": 17,
   "metadata": {},
   "outputs": [
    {
     "data": {
      "text/plain": [
       "'Donald Trump White House chaos, trying cover up. Russia problems mounting hour, refuse acknowledge problems surrounding this. them, fake news, hoax. However, facts bear things differently, seems cracks Congressional public leadership.Chuck Grassley (R-Iowa), heads Senate Judiciary Committee, fed up. demanding Donald Trump, Jr. former 2016 Trump Campaign Manager Paul Manafort testify committee regarding infamous shady meeting Donald Trump shady Russian lawyer promised dirt 2016 Democratic Presidential nominee Hillary Clinton. fact, information due, well, NOW. demand sends signals team Trump notably fire Special Counsel Robert Mueller circumstances, despite fact seems seems Trump White House laying groundwork, speak, speak.Here tweet regarding Grassley warning:Also, anyone thinks Senator Grassley rest Senate serious needs look warning already given: Trump Jr. Manafort either follow orders, served subpoenas force comply. refuse, held contempt Congress, carries serious jail time.Even cruel'"
      ]
     },
     "execution_count": 17,
     "metadata": {},
     "output_type": "execute_result"
    }
   ],
   "source": [
    "# Preview first entry\n",
    "df_clean['text'][0][:1000]"
   ]
  },
  {
   "cell_type": "markdown",
   "metadata": {},
   "source": [
    "**Next we will remove punctuation**"
   ]
  },
  {
   "cell_type": "code",
   "execution_count": 18,
   "metadata": {},
   "outputs": [],
   "source": [
    "# Define punctuation\n",
    "punctuation = list(string.punctuation)\n",
    "punctuation.append(\"“\")\n",
    "punctuation.append(\"”\")\n",
    "punctuation.append(\"’\")"
   ]
  },
  {
   "cell_type": "code",
   "execution_count": 19,
   "metadata": {},
   "outputs": [],
   "source": [
    "# Define function to remove punctuation\n",
    "def remove_punctuation(text):\n",
    "    no_punct = \"\"\n",
    "    for char in text:\n",
    "        if char not in punctuation:\n",
    "            no_punct += char\n",
    "    return no_punct"
   ]
  },
  {
   "cell_type": "code",
   "execution_count": 20,
   "metadata": {},
   "outputs": [],
   "source": [
    "# Apply function to text\n",
    "df_clean['text'] = df_clean['text'].apply(remove_punctuation)\n"
   ]
  },
  {
   "cell_type": "code",
   "execution_count": 21,
   "metadata": {},
   "outputs": [
    {
     "data": {
      "text/plain": [
       "'Donald Trump White House chaos trying cover up Russia problems mounting hour refuse acknowledge problems surrounding this them fake news hoax However facts bear things differently seems cracks Congressional public leadershipChuck Grassley RIowa heads Senate Judiciary Committee fed up demanding Donald Trump Jr former 2016 Trump Campaign Manager Paul Manafort testify committee regarding infamous shady meeting Donald Trump shady Russian lawyer promised dirt 2016 Democratic Presidential nominee Hillary Clinton fact information due well NOW demand sends signals team Trump notably fire Special Counsel Robert Mueller circumstances despite fact seems seems Trump White House laying groundwork speak speakHere tweet regarding Grassley warningAlso anyone thinks Senator Grassley rest Senate serious needs look warning already given Trump Jr Manafort either follow orders served subpoenas force comply refuse held contempt Congress carries serious jail timeEven cruel craven creatures within GOP sick Do'"
      ]
     },
     "execution_count": 21,
     "metadata": {},
     "output_type": "execute_result"
    }
   ],
   "source": [
    "# Preview first entry\n",
    "df_clean['text'][0][:1000]"
   ]
  },
  {
   "cell_type": "markdown",
   "metadata": {},
   "source": [
    "## Modelling"
   ]
  },
  {
   "cell_type": "code",
   "execution_count": 22,
   "metadata": {},
   "outputs": [],
   "source": [
    "from sklearn.model_selection import train_test_split\n",
    "from tensorflow.keras.preprocessing.text import Tokenizer\n",
    "from tensorflow.keras.preprocessing.sequence import pad_sequences\n",
    "from tensorflow.keras.layers import Input, Embedding, LSTM, Bidirectional, Dense, Concatenate\n",
    "from tensorflow.keras.models import Sequential\n",
    "from tensorflow.keras.initializers import Constant\n",
    "from tensorflow.keras.optimizers import Adam"
   ]
  },
  {
   "cell_type": "code",
   "execution_count": 23,
   "metadata": {},
   "outputs": [],
   "source": [
    "# Split the dataset into train and test sets\n",
    "train_df, test_df = train_test_split(df_clean, test_size=0.2, random_state=42)\n",
    "\n",
    "# setting some variables\n",
    "\n",
    "trunc_type='post'\n",
    "padding_type='post'\n",
    "oov_tok = \"<OOV>\"\n",
    "\n",
    "\n",
    "# Tokenize the text column\n",
    "tokenizer_text = Tokenizer(num_words = 10000, oov_token=oov_tok)\n",
    "tokenizer_text.fit_on_texts(train_df['text'])\n",
    "word_index_text = tokenizer_text.word_index\n",
    "\n",
    "# Convert text to sequences for the text column\n",
    "train_sequences_text = tokenizer_text.texts_to_sequences(train_df['text'])\n",
    "test_sequences_text = tokenizer_text.texts_to_sequences(test_df['text'])\n",
    "\n",
    "# Pad sequences for the text column\n",
    "# max_sequence_length_text = 10000  # Specify the maximum length of the sequences for the text column\n",
    "train_data_text = pad_sequences(train_sequences_text, maxlen=300, padding=padding_type, truncating=trunc_type)\n",
    "test_data_text = pad_sequences(test_sequences_text, maxlen=300, padding=padding_type, truncating=trunc_type)\n",
    "\n",
    "# Prepare the target variable\n",
    "train_labels = train_df['class'].values\n",
    "test_labels = test_df['class'].values"
   ]
  },
  {
   "cell_type": "code",
   "execution_count": 24,
   "metadata": {},
   "outputs": [
    {
     "name": "stdout",
     "output_type": "stream",
     "text": [
      "Embedding Dimension: 100\n"
     ]
    }
   ],
   "source": [
    "embedding_file = 'glove.6B.100d.txt'\n",
    "\n",
    "with open(embedding_file, 'r', encoding='utf-8') as file:\n",
    "    first_line = file.readline()\n",
    "    embedding_dimension = len(first_line.split()) - 1\n",
    "\n",
    "print(\"Embedding Dimension:\", embedding_dimension)"
   ]
  },
  {
   "cell_type": "code",
   "execution_count": 25,
   "metadata": {},
   "outputs": [],
   "source": [
    "# Load GloVe word embeddings\n",
    "glove_file = 'glove.6B.100d.txt'  # Specify the path to your GloVe embedding file\n",
    "embedding_dim = 100  # Specify the dimensionality of the GloVe embeddings\n",
    "\n",
    "# Create embedding matrix for text column\n",
    "embedding_matrix_text = np.zeros((len(word_index_text) + 1, embedding_dim))\n",
    "with open(glove_file, 'r', encoding='utf8') as f:\n",
    "    for line in f:\n",
    "        values = line.split()\n",
    "        word = values[0]\n",
    "        if word in word_index_text:\n",
    "            embedding_matrix_text[word_index_text[word]] = np.array(values[1:], dtype='float32')\n"
   ]
  },
  {
   "cell_type": "code",
   "execution_count": 26,
   "metadata": {},
   "outputs": [
    {
     "data": {
      "text/plain": [
       "208638"
      ]
     },
     "execution_count": 26,
     "metadata": {},
     "output_type": "execute_result"
    }
   ],
   "source": [
    "len(word_index_text) + 1"
   ]
  },
  {
   "cell_type": "code",
   "execution_count": 27,
   "metadata": {
    "scrolled": true
   },
   "outputs": [
    {
     "name": "stdout",
     "output_type": "stream",
     "text": [
      "WARNING:tensorflow:Layer lstm will not use cuDNN kernels since it doesn't meet the criteria. It will use a generic GPU kernel as fallback when running on GPU.\n",
      "WARNING:tensorflow:Layer lstm_1 will not use cuDNN kernels since it doesn't meet the criteria. It will use a generic GPU kernel as fallback when running on GPU.\n",
      "Model: \"sequential\"\n",
      "_________________________________________________________________\n",
      " Layer (type)                Output Shape              Param #   \n",
      "=================================================================\n",
      " embedding (Embedding)       (None, 300, 100)          20863800  \n",
      "                                                                 \n",
      " lstm (LSTM)                 (None, 300, 128)          117248    \n",
      "                                                                 \n",
      " lstm_1 (LSTM)               (None, 64)                49408     \n",
      "                                                                 \n",
      " dense (Dense)               (None, 42)                2730      \n",
      "                                                                 \n",
      " dense_1 (Dense)             (None, 1)                 43        \n",
      "                                                                 \n",
      "=================================================================\n",
      "Total params: 21,033,229\n",
      "Trainable params: 169,429\n",
      "Non-trainable params: 20,863,800\n",
      "_________________________________________________________________\n"
     ]
    }
   ],
   "source": [
    "# Build the model\n",
    "# model = Sequential()\n",
    "# model.add(Embedding(len(word_index_text) + 1, embedding_dim, embeddings_initializer=Constant(embedding_matrix_text),\n",
    "#                    input_length=max_sequence_length_text, trainable=False))\n",
    "# model.add(LSTM(units=128,\n",
    "#              return_sequences = True))\n",
    "\n",
    "# model.add(LSTM(units = 64))\n",
    "\n",
    "# model.add(Dense(units = 42, activation = 'relu'))\n",
    "# model.add(Dense(1, activation='sigmoid'))\n",
    "\n",
    "\n",
    "# Define model\n",
    "model = Sequential()\n",
    "\n",
    "# Add embedding layer (non-trainable)\n",
    "model.add(Embedding(len(word_index_text) + 1, \n",
    "                    output_dim = 100,\n",
    "                    weights = [embedding_matrix_text],\n",
    "                    input_length = 300,\n",
    "                    trainable = False))\n",
    "\n",
    "# Add other layers\n",
    "model.add(LSTM(units = 128,\n",
    "               return_sequences = True, \n",
    "               recurrent_dropout = 0.25,\n",
    "               dropout = 0.25))\n",
    "\n",
    "model.add(LSTM(units = 64,\n",
    "               recurrent_dropout = 0.1,\n",
    "               dropout = 0.1))\n",
    "\n",
    "model.add(Dense(units = 42, activation = 'relu'))\n",
    "\n",
    "model.add(Dense(units = 1, activation = 'sigmoid'))\n",
    "# Define the optimizer\n",
    "optimizer = Adam(learning_rate=0.01)\n",
    "\n",
    "# Compile the model with the optimizer\n",
    "model.compile(optimizer=optimizer, loss='binary_crossentropy', metrics=['accuracy'])\n",
    "\n",
    " # Get summary\n",
    "model.summary()         "
   ]
  },
  {
   "cell_type": "code",
   "execution_count": 28,
   "metadata": {},
   "outputs": [
    {
     "name": "stdout",
     "output_type": "stream",
     "text": [
      "Device found : [PhysicalDevice(name='/physical_device:GPU:0', device_type='GPU')]\n"
     ]
    }
   ],
   "source": [
    "physical_device = tf.config.experimental.list_physical_devices('GPU')\n",
    "print(f'Device found : {physical_device}')"
   ]
  },
  {
   "cell_type": "code",
   "execution_count": 31,
   "metadata": {},
   "outputs": [
    {
     "name": "stdout",
     "output_type": "stream",
     "text": [
      "Epoch 1/10\n",
      "562/562 [==============================] - 2021s 4s/step - loss: 0.3340 - accuracy: 0.7937 - val_loss: 0.0181 - val_accuracy: 0.9968\n",
      "Epoch 2/10\n",
      "562/562 [==============================] - 1992s 4s/step - loss: 0.0177 - accuracy: 0.9963 - val_loss: 0.0145 - val_accuracy: 0.9974\n",
      "Epoch 3/10\n",
      "562/562 [==============================] - 1955s 3s/step - loss: 0.0128 - accuracy: 0.9977 - val_loss: 0.0118 - val_accuracy: 0.9976\n",
      "Epoch 4/10\n",
      "562/562 [==============================] - 72018s 128s/step - loss: 0.0147 - accuracy: 0.9970 - val_loss: 0.0097 - val_accuracy: 0.9980\n",
      "Epoch 5/10\n",
      "562/562 [==============================] - 2932s 5s/step - loss: 0.0133 - accuracy: 0.9969 - val_loss: 0.0183 - val_accuracy: 0.9949\n",
      "Epoch 6/10\n",
      "562/562 [==============================] - 107333s 191s/step - loss: 0.0094 - accuracy: 0.9981 - val_loss: 0.0083 - val_accuracy: 0.9984\n",
      "Epoch 7/10\n",
      "562/562 [==============================] - 49108s 88s/step - loss: 0.0089 - accuracy: 0.9979 - val_loss: 0.0071 - val_accuracy: 0.9986\n",
      "Epoch 8/10\n",
      "562/562 [==============================] - 1891s 3s/step - loss: 0.0085 - accuracy: 0.9979 - val_loss: 0.0079 - val_accuracy: 0.9983\n",
      "Epoch 9/10\n",
      "562/562 [==============================] - 1984s 4s/step - loss: 0.0072 - accuracy: 0.9984 - val_loss: 0.0067 - val_accuracy: 0.9984\n",
      "Epoch 10/10\n",
      "562/562 [==============================] - 1934s 3s/step - loss: 0.0070 - accuracy: 0.9983 - val_loss: 0.0091 - val_accuracy: 0.9982\n"
     ]
    }
   ],
   "source": [
    "# Fit model\n",
    "history = model.fit(train_data_text, \n",
    "                    train_labels, \n",
    "                    batch_size = 64 , \n",
    "                    validation_data = (test_data_text, test_labels) , \n",
    "                    epochs = 10)"
   ]
  },
  {
   "cell_type": "code",
   "execution_count": 32,
   "metadata": {},
   "outputs": [
    {
     "name": "stdout",
     "output_type": "stream",
     "text": [
      "281/281 [==============================] - 87s 310ms/step - loss: 0.0091 - accuracy: 0.9982\n",
      "Test Loss: 0.0091\n",
      "Test Accuracy: 0.9982\n"
     ]
    }
   ],
   "source": [
    "loss, accuracy = model.evaluate(test_data_text, test_labels)\n",
    "print(f\"Test Loss: {loss:.4f}\")\n",
    "print(f\"Test Accuracy: {accuracy:.4f}\")"
   ]
  }
 ],
 "metadata": {
  "kernelspec": {
   "display_name": "Python 3 (ipykernel)",
   "language": "python",
   "name": "python3"
  },
  "language_info": {
   "codemirror_mode": {
    "name": "ipython",
    "version": 3
   },
   "file_extension": ".py",
   "mimetype": "text/x-python",
   "name": "python",
   "nbconvert_exporter": "python",
   "pygments_lexer": "ipython3",
   "version": "3.8.18"
  }
 },
 "nbformat": 4,
 "nbformat_minor": 4
}
